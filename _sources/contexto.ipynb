{
 "cells": [
  {
   "cell_type": "markdown",
   "metadata": {},
   "source": [
    "# **Contextualización**"
   ]
  },
  {
   "cell_type": "markdown",
   "metadata": {},
   "source": [
    "## **Concer de prostata**"
   ]
  },
  {
   "cell_type": "markdown",
   "metadata": {},
   "source": [
    "El cáncer de próstata es una enfermedad en la cual las células de la próstata, una glándula del sistema reproductor masculino, se vuelven anormales y comienzan a crecer de manera descontrolada. Según *Nature Reviews Urology*:\n",
    "\n",
    "> \"El cáncer de próstata es una neoplasia maligna que se origina en las células epiteliales de la glándula prostática. Su desarrollo está influenciado por factores genéticos, hormonales y ambientales, y su progresión puede variar desde formas indolentes hasta enfermedades metastásicas y potencialmente mortales\" (Rebello et al., 2021)."
   ]
  },
  {
   "cell_type": "markdown",
   "metadata": {},
   "source": [
    "## **Gleason Score**"
   ]
  },
  {
   "cell_type": "markdown",
   "metadata": {},
   "source": [
    "El **Gleason Score** es un sistema de gradación histológica utilizado para evaluar la agresividad del cáncer de próstata. Se basa en el análisis microscópico de las células cancerosas y asigna un grado del 1 al 5 a las dos áreas más representativas del tumor. La suma de estos dos grados da como resultado el Gleason Score, que clasifica el cáncer en:\n",
    "\n",
    "- **Gleason Score 6 o menos**: Cáncer de bajo grado.\n",
    "- **Gleason Score 7**: Cáncer de grado intermedio.\n",
    "- **Gleason Score 8-10**: Cáncer de alto grado.\n",
    "\n",
    "Según *European Urology*:\n",
    "\n",
    "> \"El Gleason Score es una herramienta fundamental en la evaluación del cáncer de próstata, ya que proporciona información pronóstica crucial sobre la agresividad del tumor y guía las decisiones terapéuticas\" (Epstein et al., 2016).\n"
   ]
  },
  {
   "cell_type": "markdown",
   "metadata": {},
   "source": [
    "## **ISUP grade**"
   ]
  },
  {
   "cell_type": "markdown",
   "metadata": {},
   "source": [
    "El **ISUP Grade** es un sistema de gradación actualizado para el cáncer de próstata, basado en el **Gleason Score**. Fue propuesto por la **International Society of Urological Pathology (ISUP)** en 2014 y clasifica el cáncer en cinco grupos (de 1 a 5):\n",
    "\n",
    "- **ISUP Grade 1**: Gleason Score ≤ 6 (cáncer de bajo grado).\n",
    "- **ISUP Grade 2**: Gleason Score 3 + 4 = 7 (cáncer de grado intermedio favorable).\n",
    "- **ISUP Grade 3**: Gleason Score 4 + 3 = 7 (cáncer de grado intermedio desfavorable).\n",
    "- **ISUP Grade 4**: Gleason Score 8 (cáncer de alto grado).\n",
    "- **ISUP Grade 5**: Gleason Score 9-10 (cáncer de alto grado muy agresivo).\n",
    "\n",
    "Según *European Urology*:\n",
    "\n",
    "> \"El sistema de gradación ISUP proporciona una clasificación más precisa y clínicamente útil del cáncer de próstata, mejorando la estratificación del riesgo y la toma de decisiones terapéuticas\" (Epstein et al., 2016)."
   ]
  },
  {
   "cell_type": "markdown",
   "metadata": {},
   "source": [
    "***Mas información:*** [https://www.kaggle.com/code/tanulsingh077/prostate-cancer-in-depth-understanding-eda-model/notebook](https://www.kaggle.com/code/tanulsingh077/prostate-cancer-in-depth-understanding-eda-model/notebook)"
   ]
  }
 ],
 "metadata": {
  "language_info": {
   "name": "python"
  }
 },
 "nbformat": 4,
 "nbformat_minor": 2
}
